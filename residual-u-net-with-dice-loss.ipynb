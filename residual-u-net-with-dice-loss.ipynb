{
 "cells": [
  {
   "cell_type": "code",
   "execution_count": 1,
   "metadata": {
    "_cell_guid": "b1076dfc-b9ad-4769-8c92-a6c4dae69d19",
    "_uuid": "8f2839f25d086af736a60e9eeb907d3b93b6e0e5"
   },
   "outputs": [
    {
     "name": "stderr",
     "output_type": "stream",
     "text": [
      "Using TensorFlow backend.\n"
     ]
    },
    {
     "name": "stdout",
     "output_type": "stream",
     "text": [
      "['stage1_test', 'stage1_train_labels.csv', 'stage2_test_final', 'stage1_sample_submission.csv', 'stage1_train', 'stage2_sample_submission_final.csv']\n"
     ]
    }
   ],
   "source": [
    "# This Python 3 environment comes with many helpful analytics libraries installed\n",
    "# It is defined by the kaggle/python docker image: https://github.com/kaggle/docker-python\n",
    "# For example, here's several helpful packages to load in \n",
    "\n",
    "import numpy as np # linear algebra\n",
    "import pandas as pd # data processing, CSV file I/O (e.g. pd.read_csv)\n",
    "import glob\n",
    "from keras.layers import Conv2D,MaxPooling2D,Dropout,Dense,Flatten,Deconvolution2D,BatchNormalization,Add,Input,Concatenate,Add,Conv2DTranspose,concatenate\n",
    "# Input data files are available in the \"../input/\" directory.\n",
    "# For example, running this (by clicking run or pressing Shift+Enter) will list the files in the input directory\n",
    "import cv2\n",
    "import os\n",
    "print(os.listdir(\"../input\"))\n",
    "import matplotlib.pyplot as plt\n",
    "import tensorflow as tf\n",
    "import keras.backend as K\n",
    "from keras.models import Model\n",
    "from keras.losses import binary_crossentropy\n",
    "# Any results you write to the current directory are saved as output."
   ]
  },
  {
   "cell_type": "code",
   "execution_count": 2,
   "metadata": {
    "_cell_guid": "79c7e3d0-c299-4dcb-8224-4455121ee9b0",
    "_uuid": "d629ff2d2480ee46fbb7e2d37f6b5fab8052498a"
   },
   "outputs": [],
   "source": [
    "img_mask_dir=glob.glob(\"../input/stage1_train/*\")"
   ]
  },
  {
   "cell_type": "code",
   "execution_count": 3,
   "metadata": {},
   "outputs": [],
   "source": [
    "imgdir=[]\n",
    "for i in img_mask_dir:\n",
    "    dir1=glob.glob(i+\"/images/*\")\n",
    "    img=cv2.imread(dir1[0])\n",
    "    img=cv2.cvtColor(img,cv2.COLOR_BGR2RGB)\n",
    "    img=cv2.resize(img,(128,128))\n",
    "    imgdir.append(img)"
   ]
  },
  {
   "cell_type": "code",
   "execution_count": 4,
   "metadata": {},
   "outputs": [],
   "source": [
    "maskdir=[]\n",
    "for i in img_mask_dir:\n",
    "    dir1=glob.glob(i+\"/masks/*\")\n",
    "    maskimg=np.zeros((128,128))\n",
    "    for j in dir1:\n",
    "        \n",
    "        img=cv2.imread(j)\n",
    "        img=cv2.cvtColor(img,cv2.COLOR_BGR2GRAY)\n",
    "        img=cv2.resize(img,(128,128))\n",
    "        maskimg=np.maximum(maskimg,img)\n",
    "    \n",
    "    maskdir.append(maskimg)"
   ]
  },
  {
   "cell_type": "code",
   "execution_count": 5,
   "metadata": {},
   "outputs": [
    {
     "data": {
      "text/plain": [
       "(128, 128, 3)"
      ]
     },
     "execution_count": 5,
     "metadata": {},
     "output_type": "execute_result"
    },
    {
     "data": {
      "image/png": "[encoded data removed]",
      "text/plain": [
       "<Figure size 432x288 with 1 Axes>"
      ]
     },
     "metadata": {
      "needs_background": "light"
     },
     "output_type": "display_data"
    }
   ],
   "source": [
    "plt.imshow(imgdir[0])\n",
    "imgdir[0].shape"
   ]
  },
  {
   "cell_type": "code",
   "execution_count": 6,
   "metadata": {},
   "outputs": [
    {
     "data": {
      "text/plain": [
       "(128, 128)"
      ]
     },
     "execution_count": 6,
     "metadata": {},
     "output_type": "execute_result"
    },
    {
     "data": {
      "image/png": "[encoded data removed]",
      "text/plain": [
       "<Figure size 432x288 with 1 Axes>"
      ]
     },
     "metadata": {
      "needs_background": "light"
     },
     "output_type": "display_data"
    }
   ],
   "source": [
    "plt.imshow(maskdir[0])\n",
    "maskdir[0].shape"
   ]
  },
  {
   "cell_type": "code",
   "execution_count": 7,
   "metadata": {},
   "outputs": [],
   "source": [
    "xtrain=np.array(imgdir).astype(np.float32)/255\n",
    "ytrain=np.array(maskdir).astype(np.float32)/255"
   ]
  },
  {
   "cell_type": "code",
   "execution_count": 8,
   "metadata": {},
   "outputs": [],
   "source": [
    "ytrain=ytrain.reshape((-1,128,128,1))"
   ]
  },
  {
   "cell_type": "code",
   "execution_count": 9,
   "metadata": {},
   "outputs": [],
   "source": [
    "def mean_iou(y_true, y_pred):\n",
    "    prec = []\n",
    "    for t in np.arange(0.5, 1.0, 0.05):\n",
    "        y_pred_ = tf.to_int32(y_pred > t)\n",
    "        score, up_opt = tf.metrics.mean_iou(y_true, y_pred_, 2)\n",
    "        K.get_session().run(tf.local_variables_initializer())\n",
    "        with tf.control_dependencies([up_opt]):\n",
    "            score = tf.identity(score)\n",
    "        prec.append(score)\n",
    "    return K.mean(K.stack(prec), axis=0)"
   ]
  },
  {
   "cell_type": "code",
   "execution_count": 10,
   "metadata": {},
   "outputs": [],
   "source": [
    "inp=Input((128,128,3))\n",
    "x1=Conv2D(16,3,padding='same',activation='elu',kernel_initializer='he_normal')(inp)\n",
    "x1=BatchNormalization()(x1)\n",
    "x1=Dropout(0.2)(x1)\n",
    "x1=Conv2D(16,3,padding='same',activation='elu',kernel_initializer='he_normal')(x1)\n",
    "\n",
    "x1=BatchNormalization()(x1)\n",
    "x1=Dropout(0.2)(x1)\n",
    "p1=MaxPooling2D()(x1)\n",
    "\n",
    "inp2=Conv2D(32,3,padding='same',activation='elu',kernel_initializer='he_normal')(p1)\n",
    "x2=BatchNormalization()(inp2)\n",
    "x2=Dropout(0.2)(x2)\n",
    "x2=Conv2D(32,3,padding='same',activation='elu',kernel_initializer='he_normal')(x2)\n",
    "x2=Add()([inp2,x2])\n",
    "x2=BatchNormalization()(x2)\n",
    "x2=Dropout(0.2)(x2)\n",
    "p2=MaxPooling2D()(x2)\n",
    "\n",
    "inp3=Conv2D(32,3,padding='same',activation='elu',kernel_initializer='he_normal')(p2)\n",
    "x3=BatchNormalization()(inp3)\n",
    "x3=Dropout(0.2)(x3)\n",
    "x3=Conv2D(32,3,padding='same',activation='elu',kernel_initializer='he_normal')(x3)\n",
    "x3=Add()([inp3,x3])\n",
    "x3=BatchNormalization()(x3)\n",
    "x3=Dropout(0.2)(x3)\n",
    "p3=MaxPooling2D()(x3)\n",
    "\n",
    "inp4=Conv2D(32,3,padding='same',activation='elu',kernel_initializer='he_normal')(p3)\n",
    "x4=BatchNormalization()(inp4)\n",
    "x4=Dropout(0.2)(x4)\n",
    "x4=Conv2D(32,3,padding='same',activation='elu',kernel_initializer='he_normal')(x4)\n",
    "x4=Add()([inp4,x4])\n",
    "x4=BatchNormalization()(x4)\n",
    "x4=Dropout(0.2)(x4)\n",
    "p4=MaxPooling2D()(x4)\n",
    "\n",
    "x5=Conv2D(256,3,padding='same',activation='elu',kernel_initializer='he_normal')(p4)\n",
    "x5=Dropout(0.2)(x5)\n",
    "x5=BatchNormalization()(x5)\n",
    "x5=Conv2D(256,3,padding='same',activation='elu',kernel_initializer='he_normal')(x5)\n",
    "\n",
    "u6 = Conv2DTranspose(128, (2, 2), strides=(2, 2), padding='same') (x5)\n",
    "u61 = concatenate([u6, x4])\n",
    "c6 = Conv2D(128, (3, 3), activation='elu', kernel_initializer='he_normal', padding='same') (u61)\n",
    "c6 = Dropout(0.2) (c6)\n",
    "c6 = Conv2D(128, (3, 3), activation='elu', kernel_initializer='he_normal', padding='same') (c6)\n",
    "c6 = Add()([u6,c6])\n",
    "\n",
    "u7 = Conv2DTranspose(64, (2, 2), strides=(2, 2), padding='same') (c6)\n",
    "u71 = concatenate([u7, x3])\n",
    "c7 = Conv2D(64, (3, 3), activation='elu', kernel_initializer='he_normal', padding='same') (u71)\n",
    "c7 = Dropout(0.2) (c7)\n",
    "c7 = Conv2D(64, (3, 3), activation='elu', kernel_initializer='he_normal', padding='same') (c7)\n",
    "c7 = Add()([u7,c7])\n",
    "\n",
    "u8 = Conv2DTranspose(32, (2, 2), strides=(2, 2), padding='same') (c7)\n",
    "u81 = concatenate([u8, x2])\n",
    "c8 = Conv2D(32, (3, 3), activation='elu', kernel_initializer='he_normal', padding='same') (u81)\n",
    "c8 = Dropout(0.1) (c8)\n",
    "c8 = Conv2D(32, (3, 3), activation='elu', kernel_initializer='he_normal', padding='same') (c8)\n",
    "c7 = Add()([u8,c8])\n",
    "\n",
    "u9 = Conv2DTranspose(16, (2, 2), strides=(2, 2), padding='same') (c8)\n",
    "u91 = concatenate([u9, x1], axis=3)\n",
    "c9 = Conv2D(16, (3, 3), activation='elu', kernel_initializer='he_normal', padding='same') (u91)\n",
    "c9 = Dropout(0.1) (c9)\n",
    "c9 = Conv2D(16, (3, 3), activation='elu', kernel_initializer='he_normal', padding='same') (c9)\n",
    "c7 = Add()([u9,c9])\n",
    "outputs = Conv2D(1, (1, 1), activation='sigmoid') (c9)"
   ]
  },
  {
   "cell_type": "code",
   "execution_count": 11,
   "metadata": {},
   "outputs": [],
   "source": [
    "model=Model(inp,outputs)"
   ]
  },
  {
   "cell_type": "code",
   "execution_count": 12,
   "metadata": {},
   "outputs": [
    {
     "name": "stdout",
     "output_type": "stream",
     "text": [
      "__________________________________________________________________________________________________\n",
      "Layer (type)                    Output Shape         Param #     Connected to                     \n",
      "==================================================================================================\n",
      "input_1 (InputLayer)            (None, 128, 128, 3)  0                                            \n",
      "__________________________________________________________________________________________________\n",
      "conv2d_1 (Conv2D)               (None, 128, 128, 16) 448         input_1[0][0]                    \n",
      "__________________________________________________________________________________________________\n",
      "batch_normalization_1 (BatchNor (None, 128, 128, 16) 64          conv2d_1[0][0]                   \n",
      "__________________________________________________________________________________________________\n",
      "dropout_1 (Dropout)             (None, 128, 128, 16) 0           batch_normalization_1[0][0]      \n",
      "__________________________________________________________________________________________________\n",
      "conv2d_2 (Conv2D)               (None, 128, 128, 16) 2320        dropout_1[0][0]                  \n",
      "__________________________________________________________________________________________________\n",
      "batch_normalization_2 (BatchNor (None, 128, 128, 16) 64          conv2d_2[0][0]                   \n",
      "__________________________________________________________________________________________________\n",
      "dropout_2 (Dropout)             (None, 128, 128, 16) 0           batch_normalization_2[0][0]      \n",
      "__________________________________________________________________________________________________\n",
      "max_pooling2d_1 (MaxPooling2D)  (None, 64, 64, 16)   0           dropout_2[0][0]                  \n",
      "__________________________________________________________________________________________________\n",
      "conv2d_3 (Conv2D)               (None, 64, 64, 32)   4640        max_pooling2d_1[0][0]            \n",
      "__________________________________________________________________________________________________\n",
      "batch_normalization_3 (BatchNor (None, 64, 64, 32)   128         conv2d_3[0][0]                   \n",
      "__________________________________________________________________________________________________\n",
      "dropout_3 (Dropout)             (None, 64, 64, 32)   0           batch_normalization_3[0][0]      \n",
      "__________________________________________________________________________________________________\n",
      "conv2d_4 (Conv2D)               (None, 64, 64, 32)   9248        dropout_3[0][0]                  \n",
      "__________________________________________________________________________________________________\n",
      "add_1 (Add)                     (None, 64, 64, 32)   0           conv2d_3[0][0]                   \n",
      "                                                                 conv2d_4[0][0]                   \n",
      "__________________________________________________________________________________________________\n",
      "batch_normalization_4 (BatchNor (None, 64, 64, 32)   128         add_1[0][0]                      \n",
      "__________________________________________________________________________________________________\n",
      "dropout_4 (Dropout)             (None, 64, 64, 32)   0           batch_normalization_4[0][0]      \n",
      "__________________________________________________________________________________________________\n",
      "max_pooling2d_2 (MaxPooling2D)  (None, 32, 32, 32)   0           dropout_4[0][0]                  \n",
      "__________________________________________________________________________________________________\n",
      "conv2d_5 (Conv2D)               (None, 32, 32, 32)   9248        max_pooling2d_2[0][0]            \n",
      "__________________________________________________________________________________________________\n",
      "batch_normalization_5 (BatchNor (None, 32, 32, 32)   128         conv2d_5[0][0]                   \n",
      "__________________________________________________________________________________________________\n",
      "dropout_5 (Dropout)             (None, 32, 32, 32)   0           batch_normalization_5[0][0]      \n",
      "__________________________________________________________________________________________________\n",
      "conv2d_6 (Conv2D)               (None, 32, 32, 32)   9248        dropout_5[0][0]                  \n",
      "__________________________________________________________________________________________________\n",
      "add_2 (Add)                     (None, 32, 32, 32)   0           conv2d_5[0][0]                   \n",
      "                                                                 conv2d_6[0][0]                   \n",
      "__________________________________________________________________________________________________\n",
      "batch_normalization_6 (BatchNor (None, 32, 32, 32)   128         add_2[0][0]                      \n",
      "__________________________________________________________________________________________________\n",
      "dropout_6 (Dropout)             (None, 32, 32, 32)   0           batch_normalization_6[0][0]      \n",
      "__________________________________________________________________________________________________\n",
      "max_pooling2d_3 (MaxPooling2D)  (None, 16, 16, 32)   0           dropout_6[0][0]                  \n",
      "__________________________________________________________________________________________________\n",
      "conv2d_7 (Conv2D)               (None, 16, 16, 32)   9248        max_pooling2d_3[0][0]            \n",
      "__________________________________________________________________________________________________\n",
      "batch_normalization_7 (BatchNor (None, 16, 16, 32)   128         conv2d_7[0][0]                   \n",
      "__________________________________________________________________________________________________\n",
      "dropout_7 (Dropout)             (None, 16, 16, 32)   0           batch_normalization_7[0][0]      \n",
      "__________________________________________________________________________________________________\n",
      "conv2d_8 (Conv2D)               (None, 16, 16, 32)   9248        dropout_7[0][0]                  \n",
      "__________________________________________________________________________________________________\n",
      "add_3 (Add)                     (None, 16, 16, 32)   0           conv2d_7[0][0]                   \n",
      "                                                                 conv2d_8[0][0]                   \n",
      "__________________________________________________________________________________________________\n",
      "batch_normalization_8 (BatchNor (None, 16, 16, 32)   128         add_3[0][0]                      \n",
      "__________________________________________________________________________________________________\n",
      "dropout_8 (Dropout)             (None, 16, 16, 32)   0           batch_normalization_8[0][0]      \n",
      "__________________________________________________________________________________________________\n",
      "max_pooling2d_4 (MaxPooling2D)  (None, 8, 8, 32)     0           dropout_8[0][0]                  \n",
      "__________________________________________________________________________________________________\n",
      "conv2d_9 (Conv2D)               (None, 8, 8, 256)    73984       max_pooling2d_4[0][0]            \n",
      "__________________________________________________________________________________________________\n",
      "dropout_9 (Dropout)             (None, 8, 8, 256)    0           conv2d_9[0][0]                   \n",
      "__________________________________________________________________________________________________\n",
      "batch_normalization_9 (BatchNor (None, 8, 8, 256)    1024        dropout_9[0][0]                  \n",
      "__________________________________________________________________________________________________\n",
      "conv2d_10 (Conv2D)              (None, 8, 8, 256)    590080      batch_normalization_9[0][0]      \n",
      "__________________________________________________________________________________________________\n",
      "conv2d_transpose_1 (Conv2DTrans (None, 16, 16, 128)  131200      conv2d_10[0][0]                  \n",
      "__________________________________________________________________________________________________\n",
      "concatenate_1 (Concatenate)     (None, 16, 16, 160)  0           conv2d_transpose_1[0][0]         \n",
      "                                                                 dropout_8[0][0]                  \n",
      "__________________________________________________________________________________________________\n",
      "conv2d_11 (Conv2D)              (None, 16, 16, 128)  184448      concatenate_1[0][0]              \n",
      "__________________________________________________________________________________________________\n",
      "dropout_10 (Dropout)            (None, 16, 16, 128)  0           conv2d_11[0][0]                  \n",
      "__________________________________________________________________________________________________\n",
      "conv2d_12 (Conv2D)              (None, 16, 16, 128)  147584      dropout_10[0][0]                 \n",
      "__________________________________________________________________________________________________\n",
      "add_4 (Add)                     (None, 16, 16, 128)  0           conv2d_transpose_1[0][0]         \n",
      "                                                                 conv2d_12[0][0]                  \n",
      "__________________________________________________________________________________________________\n",
      "conv2d_transpose_2 (Conv2DTrans (None, 32, 32, 64)   32832       add_4[0][0]                      \n",
      "__________________________________________________________________________________________________\n",
      "concatenate_2 (Concatenate)     (None, 32, 32, 96)   0           conv2d_transpose_2[0][0]         \n",
      "                                                                 dropout_6[0][0]                  \n",
      "__________________________________________________________________________________________________\n",
      "conv2d_13 (Conv2D)              (None, 32, 32, 64)   55360       concatenate_2[0][0]              \n",
      "__________________________________________________________________________________________________\n",
      "dropout_11 (Dropout)            (None, 32, 32, 64)   0           conv2d_13[0][0]                  \n",
      "__________________________________________________________________________________________________\n",
      "conv2d_14 (Conv2D)              (None, 32, 32, 64)   36928       dropout_11[0][0]                 \n",
      "__________________________________________________________________________________________________\n",
      "add_5 (Add)                     (None, 32, 32, 64)   0           conv2d_transpose_2[0][0]         \n",
      "                                                                 conv2d_14[0][0]                  \n",
      "__________________________________________________________________________________________________\n",
      "conv2d_transpose_3 (Conv2DTrans (None, 64, 64, 32)   8224        add_5[0][0]                      \n",
      "__________________________________________________________________________________________________\n",
      "concatenate_3 (Concatenate)     (None, 64, 64, 64)   0           conv2d_transpose_3[0][0]         \n",
      "                                                                 dropout_4[0][0]                  \n",
      "__________________________________________________________________________________________________\n",
      "conv2d_15 (Conv2D)              (None, 64, 64, 32)   18464       concatenate_3[0][0]              \n",
      "__________________________________________________________________________________________________\n",
      "dropout_12 (Dropout)            (None, 64, 64, 32)   0           conv2d_15[0][0]                  \n",
      "__________________________________________________________________________________________________\n",
      "conv2d_16 (Conv2D)              (None, 64, 64, 32)   9248        dropout_12[0][0]                 \n",
      "__________________________________________________________________________________________________\n",
      "conv2d_transpose_4 (Conv2DTrans (None, 128, 128, 16) 2064        conv2d_16[0][0]                  \n",
      "__________________________________________________________________________________________________\n",
      "concatenate_4 (Concatenate)     (None, 128, 128, 32) 0           conv2d_transpose_4[0][0]         \n",
      "                                                                 dropout_2[0][0]                  \n",
      "__________________________________________________________________________________________________\n",
      "conv2d_17 (Conv2D)              (None, 128, 128, 16) 4624        concatenate_4[0][0]              \n",
      "__________________________________________________________________________________________________\n",
      "dropout_13 (Dropout)            (None, 128, 128, 16) 0           conv2d_17[0][0]                  \n",
      "__________________________________________________________________________________________________\n",
      "conv2d_18 (Conv2D)              (None, 128, 128, 16) 2320        dropout_13[0][0]                 \n",
      "__________________________________________________________________________________________________\n",
      "conv2d_19 (Conv2D)              (None, 128, 128, 1)  17          conv2d_18[0][0]                  \n",
      "==================================================================================================\n",
      "Total params: 1,352,945\n",
      "Trainable params: 1,351,985\n",
      "Non-trainable params: 960\n",
      "__________________________________________________________________________________________________\n"
     ]
    }
   ],
   "source": [
    "model.summary()"
   ]
  },
  {
   "cell_type": "code",
   "execution_count": 13,
   "metadata": {},
   "outputs": [],
   "source": [
    "def loss1(ytrue,ypred):\n",
    "    smooth=1\n",
    "    intersection=2*K.sum(ytrue*ypred+smooth)\n",
    "    a=K.sum(ytrue+ypred+smooth)\n",
    "    diceloss=intersection/a\n",
    "    return 0.44*K.mean(binary_crossentropy(ytrue,ypred))-(0.56*diceloss)"
   ]
  },
  {
   "cell_type": "code",
   "execution_count": null,
   "metadata": {},
   "outputs": [],
   "source": []
  },
  {
   "cell_type": "code",
   "execution_count": 14,
   "metadata": {},
   "outputs": [],
   "source": [
    "model.compile(optimizer='adam',loss=loss1,metrics=[mean_iou])"
   ]
  },
  {
   "cell_type": "code",
   "execution_count": 15,
   "metadata": {},
   "outputs": [
    {
     "name": "stdout",
     "output_type": "stream",
     "text": [
      "Train on 603 samples, validate on 67 samples\n",
      "Epoch 1/200\n",
      "603/603 [==============================] - 9s 15ms/step - loss: -0.8161 - mean_iou: 0.5017 - val_loss: -0.8959 - val_mean_iou: 0.6035\n",
      "Epoch 2/200\n",
      "603/603 [==============================] - 2s 4ms/step - loss: -0.9090 - mean_iou: 0.6495 - val_loss: -0.8944 - val_mean_iou: 0.6808\n",
      "Epoch 3/200\n",
      "603/603 [==============================] - 2s 4ms/step - loss: -0.9204 - mean_iou: 0.6976 - val_loss: -0.8888 - val_mean_iou: 0.7130\n",
      "Epoch 4/200\n",
      "603/603 [==============================] - 2s 4ms/step - loss: -0.9323 - mean_iou: 0.7250 - val_loss: -0.9053 - val_mean_iou: 0.7367\n",
      "Epoch 5/200\n",
      "603/603 [==============================] - 2s 4ms/step - loss: -0.9358 - mean_iou: 0.7452 - val_loss: -0.9372 - val_mean_iou: 0.7539\n",
      "Epoch 6/200\n",
      "603/603 [==============================] - 2s 4ms/step - loss: -0.9394 - mean_iou: 0.7600 - val_loss: -0.9123 - val_mean_iou: 0.7663\n",
      "Epoch 7/200\n",
      "603/603 [==============================] - 2s 4ms/step - loss: -0.9391 - mean_iou: 0.7711 - val_loss: -0.9205 - val_mean_iou: 0.7757\n",
      "Epoch 8/200\n",
      "603/603 [==============================] - 2s 4ms/step - loss: -0.9426 - mean_iou: 0.7796 - val_loss: -0.9239 - val_mean_iou: 0.7834\n",
      "Epoch 9/200\n",
      "603/603 [==============================] - 2s 4ms/step - loss: -0.9440 - mean_iou: 0.7869 - val_loss: -0.9459 - val_mean_iou: 0.7901\n",
      "Epoch 10/200\n",
      "603/603 [==============================] - 2s 4ms/step - loss: -0.9444 - mean_iou: 0.7930 - val_loss: -0.9519 - val_mean_iou: 0.7959\n",
      "Epoch 11/200\n",
      "603/603 [==============================] - 2s 4ms/step - loss: -0.9434 - mean_iou: 0.7985 - val_loss: -0.9343 - val_mean_iou: 0.8005\n",
      "Epoch 12/200\n",
      "603/603 [==============================] - 2s 4ms/step - loss: -0.9463 - mean_iou: 0.8026 - val_loss: -0.9541 - val_mean_iou: 0.8049\n",
      "Epoch 13/200\n",
      "603/603 [==============================] - 2s 4ms/step - loss: -0.9479 - mean_iou: 0.8068 - val_loss: -0.9174 - val_mean_iou: 0.8087\n",
      "Epoch 14/200\n",
      "603/603 [==============================] - 2s 4ms/step - loss: -0.9487 - mean_iou: 0.8103 - val_loss: -0.9463 - val_mean_iou: 0.8120\n",
      "Epoch 15/200\n",
      "603/603 [==============================] - 2s 4ms/step - loss: -0.9492 - mean_iou: 0.8135 - val_loss: -0.9520 - val_mean_iou: 0.8150\n",
      "Epoch 16/200\n",
      "603/603 [==============================] - 2s 4ms/step - loss: -0.9498 - mean_iou: 0.8164 - val_loss: -0.9589 - val_mean_iou: 0.8179\n",
      "Epoch 17/200\n",
      "603/603 [==============================] - 2s 4ms/step - loss: -0.9496 - mean_iou: 0.8194 - val_loss: -0.9627 - val_mean_iou: 0.8206\n",
      "Epoch 18/200\n",
      "603/603 [==============================] - 2s 4ms/step - loss: -0.9499 - mean_iou: 0.8219 - val_loss: -0.9555 - val_mean_iou: 0.8230\n",
      "Epoch 19/200\n",
      "603/603 [==============================] - 2s 4ms/step - loss: -0.9503 - mean_iou: 0.8242 - val_loss: -0.9582 - val_mean_iou: 0.8252\n",
      "Epoch 20/200\n",
      "603/603 [==============================] - 2s 4ms/step - loss: -0.9505 - mean_iou: 0.8262 - val_loss: -0.9516 - val_mean_iou: 0.8272\n",
      "Epoch 21/200\n",
      "603/603 [==============================] - 2s 4ms/step - loss: -0.9517 - mean_iou: 0.8282 - val_loss: -0.9595 - val_mean_iou: 0.8290\n",
      "Epoch 22/200\n",
      "603/603 [==============================] - 2s 4ms/step - loss: -0.9517 - mean_iou: 0.8299 - val_loss: -0.9585 - val_mean_iou: 0.8308\n",
      "Epoch 23/200\n",
      "603/603 [==============================] - 2s 4ms/step - loss: -0.9521 - mean_iou: 0.8315 - val_loss: -0.9601 - val_mean_iou: 0.8324\n",
      "Epoch 24/200\n",
      "603/603 [==============================] - 2s 4ms/step - loss: -0.9524 - mean_iou: 0.8332 - val_loss: -0.9562 - val_mean_iou: 0.8339\n",
      "Epoch 25/200\n",
      "603/603 [==============================] - 2s 4ms/step - loss: -0.9532 - mean_iou: 0.8347 - val_loss: -0.9614 - val_mean_iou: 0.8354\n",
      "Epoch 26/200\n",
      "603/603 [==============================] - 2s 4ms/step - loss: -0.9536 - mean_iou: 0.8361 - val_loss: -0.9007 - val_mean_iou: 0.8367\n",
      "Epoch 27/200\n",
      "603/603 [==============================] - 2s 4ms/step - loss: -0.9536 - mean_iou: 0.8372 - val_loss: -0.9384 - val_mean_iou: 0.8377\n",
      "Epoch 28/200\n",
      "603/603 [==============================] - 2s 4ms/step - loss: -0.9548 - mean_iou: 0.8383 - val_loss: -0.9583 - val_mean_iou: 0.8389\n",
      "Epoch 29/200\n",
      "603/603 [==============================] - 2s 4ms/step - loss: -0.9542 - mean_iou: 0.8395 - val_loss: -0.9593 - val_mean_iou: 0.8401\n",
      "Epoch 30/200\n",
      "603/603 [==============================] - 2s 4ms/step - loss: -0.9543 - mean_iou: 0.8408 - val_loss: -0.9581 - val_mean_iou: 0.8413\n",
      "Epoch 31/200\n",
      "603/603 [==============================] - 2s 4ms/step - loss: -0.9549 - mean_iou: 0.8418 - val_loss: -0.9605 - val_mean_iou: 0.8423\n",
      "Epoch 32/200\n",
      "603/603 [==============================] - 2s 4ms/step - loss: -0.9557 - mean_iou: 0.8428 - val_loss: -0.9576 - val_mean_iou: 0.8434\n",
      "Epoch 33/200\n",
      "603/603 [==============================] - 2s 4ms/step - loss: -0.9563 - mean_iou: 0.8440 - val_loss: -0.9565 - val_mean_iou: 0.8445\n",
      "Epoch 34/200\n",
      "603/603 [==============================] - 2s 4ms/step - loss: -0.9567 - mean_iou: 0.8450 - val_loss: -0.9631 - val_mean_iou: 0.8455\n",
      "Epoch 35/200\n",
      "603/603 [==============================] - 2s 4ms/step - loss: -0.9586 - mean_iou: 0.8461 - val_loss: -0.9626 - val_mean_iou: 0.8467\n",
      "Epoch 36/200\n",
      "603/603 [==============================] - 2s 4ms/step - loss: -0.9596 - mean_iou: 0.8473 - val_loss: -0.9624 - val_mean_iou: 0.8478\n",
      "Epoch 37/200\n",
      "603/603 [==============================] - 2s 4ms/step - loss: -0.9597 - mean_iou: 0.8484 - val_loss: -0.9607 - val_mean_iou: 0.8489\n",
      "Epoch 38/200\n",
      "603/603 [==============================] - 2s 4ms/step - loss: -0.9592 - mean_iou: 0.8494 - val_loss: -0.9630 - val_mean_iou: 0.8499\n",
      "Epoch 39/200\n",
      "603/603 [==============================] - 2s 4ms/step - loss: -0.9604 - mean_iou: 0.8505 - val_loss: -0.9644 - val_mean_iou: 0.8510\n",
      "Epoch 40/200\n",
      "603/603 [==============================] - 2s 4ms/step - loss: -0.9613 - mean_iou: 0.8515 - val_loss: -0.9630 - val_mean_iou: 0.8520\n",
      "Epoch 41/200\n",
      "603/603 [==============================] - 2s 4ms/step - loss: -0.9609 - mean_iou: 0.8526 - val_loss: -0.9612 - val_mean_iou: 0.8530\n",
      "Epoch 42/200\n",
      "603/603 [==============================] - 2s 4ms/step - loss: -0.9595 - mean_iou: 0.8535 - val_loss: -0.9641 - val_mean_iou: 0.8539\n",
      "Epoch 43/200\n",
      "603/603 [==============================] - 2s 4ms/step - loss: -0.9596 - mean_iou: 0.8543 - val_loss: -0.9617 - val_mean_iou: 0.8547\n",
      "Epoch 44/200\n",
      "603/603 [==============================] - 2s 4ms/step - loss: -0.9606 - mean_iou: 0.8552 - val_loss: -0.9625 - val_mean_iou: 0.8556\n",
      "Epoch 45/200\n",
      "603/603 [==============================] - 2s 4ms/step - loss: -0.9632 - mean_iou: 0.8560 - val_loss: -0.9618 - val_mean_iou: 0.8565\n",
      "Epoch 46/200\n",
      "603/603 [==============================] - 2s 4ms/step - loss: -0.9633 - mean_iou: 0.8570 - val_loss: -0.9601 - val_mean_iou: 0.8574\n",
      "Epoch 47/200\n",
      "603/603 [==============================] - 2s 4ms/step - loss: -0.9632 - mean_iou: 0.8579 - val_loss: -0.9624 - val_mean_iou: 0.8583\n",
      "Epoch 48/200\n",
      "603/603 [==============================] - 2s 4ms/step - loss: -0.9639 - mean_iou: 0.8588 - val_loss: -0.9631 - val_mean_iou: 0.8592\n",
      "Epoch 49/200\n",
      "603/603 [==============================] - 2s 4ms/step - loss: -0.9645 - mean_iou: 0.8597 - val_loss: -0.9611 - val_mean_iou: 0.8601\n",
      "Epoch 50/200\n",
      "603/603 [==============================] - 2s 4ms/step - loss: -0.9650 - mean_iou: 0.8606 - val_loss: -0.9635 - val_mean_iou: 0.8610\n",
      "Epoch 51/200\n",
      "603/603 [==============================] - 2s 4ms/step - loss: -0.9655 - mean_iou: 0.8614 - val_loss: -0.9614 - val_mean_iou: 0.8619\n",
      "Epoch 52/200\n",
      "603/603 [==============================] - 2s 4ms/step - loss: -0.9660 - mean_iou: 0.8623 - val_loss: -0.9618 - val_mean_iou: 0.8628\n",
      "Epoch 53/200\n",
      "603/603 [==============================] - 2s 4ms/step - loss: -0.9664 - mean_iou: 0.8632 - val_loss: -0.9631 - val_mean_iou: 0.8636\n",
      "Epoch 54/200\n",
      "603/603 [==============================] - 2s 4ms/step - loss: -0.9665 - mean_iou: 0.8640 - val_loss: -0.9615 - val_mean_iou: 0.8644\n",
      "Epoch 55/200\n",
      "603/603 [==============================] - 2s 4ms/step - loss: -0.9657 - mean_iou: 0.8648 - val_loss: -0.9614 - val_mean_iou: 0.8652\n",
      "Epoch 56/200\n",
      "603/603 [==============================] - 2s 4ms/step - loss: -0.9666 - mean_iou: 0.8656 - val_loss: -0.9622 - val_mean_iou: 0.8660\n",
      "Epoch 57/200\n",
      "603/603 [==============================] - 2s 4ms/step - loss: -0.9668 - mean_iou: 0.8664 - val_loss: -0.9631 - val_mean_iou: 0.8668\n",
      "Epoch 58/200\n",
      "603/603 [==============================] - 2s 4ms/step - loss: -0.9668 - mean_iou: 0.8671 - val_loss: -0.9611 - val_mean_iou: 0.8675\n",
      "Epoch 59/200\n",
      "603/603 [==============================] - 2s 4ms/step - loss: -0.9677 - mean_iou: 0.8678 - val_loss: -0.9615 - val_mean_iou: 0.8682\n",
      "Epoch 60/200\n",
      "603/603 [==============================] - 2s 4ms/step - loss: -0.9676 - mean_iou: 0.8686 - val_loss: -0.9623 - val_mean_iou: 0.8689\n",
      "Epoch 61/200\n",
      "603/603 [==============================] - 2s 4ms/step - loss: -0.9675 - mean_iou: 0.8693 - val_loss: -0.9623 - val_mean_iou: 0.8696\n",
      "Epoch 62/200\n",
      "603/603 [==============================] - 2s 4ms/step - loss: -0.9679 - mean_iou: 0.8700 - val_loss: -0.9618 - val_mean_iou: 0.8703\n",
      "Epoch 63/200\n",
      "603/603 [==============================] - 2s 4ms/step - loss: -0.9680 - mean_iou: 0.8707 - val_loss: -0.9623 - val_mean_iou: 0.8710\n",
      "Epoch 64/200\n",
      "603/603 [==============================] - 2s 4ms/step - loss: -0.9685 - mean_iou: 0.8714 - val_loss: -0.9615 - val_mean_iou: 0.8717\n",
      "Epoch 65/200\n",
      "603/603 [==============================] - 2s 4ms/step - loss: -0.9689 - mean_iou: 0.8720 - val_loss: -0.9614 - val_mean_iou: 0.8724\n",
      "Epoch 66/200\n",
      "603/603 [==============================] - 2s 4ms/step - loss: -0.9685 - mean_iou: 0.8727 - val_loss: -0.9623 - val_mean_iou: 0.8730\n",
      "Epoch 67/200\n",
      "603/603 [==============================] - 2s 4ms/step - loss: -0.9691 - mean_iou: 0.8733 - val_loss: -0.9607 - val_mean_iou: 0.8737\n",
      "Epoch 68/200\n",
      "603/603 [==============================] - 2s 4ms/step - loss: -0.9693 - mean_iou: 0.8740 - val_loss: -0.9625 - val_mean_iou: 0.8743\n",
      "Epoch 69/200\n",
      "603/603 [==============================] - 2s 4ms/step - loss: -0.9693 - mean_iou: 0.8746 - val_loss: -0.9608 - val_mean_iou: 0.8749\n",
      "Epoch 70/200\n",
      "603/603 [==============================] - 2s 4ms/step - loss: -0.9691 - mean_iou: 0.8752 - val_loss: -0.9596 - val_mean_iou: 0.8755\n",
      "Epoch 71/200\n",
      "603/603 [==============================] - 2s 4ms/step - loss: -0.9689 - mean_iou: 0.8758 - val_loss: -0.9615 - val_mean_iou: 0.8761\n",
      "Epoch 72/200\n",
      "603/603 [==============================] - 2s 4ms/step - loss: -0.9694 - mean_iou: 0.8763 - val_loss: -0.9622 - val_mean_iou: 0.8766\n",
      "Epoch 73/200\n",
      "603/603 [==============================] - 2s 4ms/step - loss: -0.9697 - mean_iou: 0.8769 - val_loss: -0.9626 - val_mean_iou: 0.8772\n",
      "Epoch 74/200\n",
      "603/603 [==============================] - 2s 4ms/step - loss: -0.9696 - mean_iou: 0.8775 - val_loss: -0.9612 - val_mean_iou: 0.8778\n",
      "Epoch 75/200\n",
      "603/603 [==============================] - 2s 4ms/step - loss: -0.9697 - mean_iou: 0.8780 - val_loss: -0.9585 - val_mean_iou: 0.8783\n",
      "Epoch 76/200\n",
      "603/603 [==============================] - 2s 4ms/step - loss: -0.9696 - mean_iou: 0.8785 - val_loss: -0.9591 - val_mean_iou: 0.8788\n",
      "Epoch 77/200\n",
      "603/603 [==============================] - 2s 4ms/step - loss: -0.9706 - mean_iou: 0.8791 - val_loss: -0.9608 - val_mean_iou: 0.8793\n",
      "Epoch 78/200\n",
      "603/603 [==============================] - 2s 4ms/step - loss: -0.9698 - mean_iou: 0.8796 - val_loss: -0.9609 - val_mean_iou: 0.8799\n",
      "Epoch 79/200\n",
      "603/603 [==============================] - 2s 4ms/step - loss: -0.9706 - mean_iou: 0.8801 - val_loss: -0.9603 - val_mean_iou: 0.8804\n",
      "Epoch 80/200\n",
      "603/603 [==============================] - 2s 4ms/step - loss: -0.9707 - mean_iou: 0.8806 - val_loss: -0.9600 - val_mean_iou: 0.8809\n",
      "Epoch 81/200\n",
      "603/603 [==============================] - 2s 4ms/step - loss: -0.9707 - mean_iou: 0.8811 - val_loss: -0.9582 - val_mean_iou: 0.8814\n",
      "Epoch 82/200\n",
      "603/603 [==============================] - 2s 4ms/step - loss: -0.9708 - mean_iou: 0.8816 - val_loss: -0.9586 - val_mean_iou: 0.8819\n",
      "Epoch 83/200\n",
      "603/603 [==============================] - 2s 4ms/step - loss: -0.9704 - mean_iou: 0.8821 - val_loss: -0.9545 - val_mean_iou: 0.8823\n",
      "Epoch 84/200\n",
      "603/603 [==============================] - 2s 4ms/step - loss: -0.9705 - mean_iou: 0.8825 - val_loss: -0.9588 - val_mean_iou: 0.8828\n",
      "Epoch 85/200\n",
      "603/603 [==============================] - 2s 4ms/step - loss: -0.9715 - mean_iou: 0.8830 - val_loss: -0.9609 - val_mean_iou: 0.8832\n",
      "Epoch 86/200\n",
      "603/603 [==============================] - 2s 4ms/step - loss: -0.9714 - mean_iou: 0.8835 - val_loss: -0.9607 - val_mean_iou: 0.8837\n",
      "Epoch 87/200\n",
      "603/603 [==============================] - 2s 4ms/step - loss: -0.9702 - mean_iou: 0.8839 - val_loss: -0.9581 - val_mean_iou: 0.8841\n",
      "Epoch 88/200\n",
      "603/603 [==============================] - 2s 4ms/step - loss: -0.9716 - mean_iou: 0.8843 - val_loss: -0.9600 - val_mean_iou: 0.8845\n",
      "Epoch 89/200\n",
      "603/603 [==============================] - 2s 4ms/step - loss: -0.9713 - mean_iou: 0.8847 - val_loss: -0.9606 - val_mean_iou: 0.8850\n",
      "Epoch 90/200\n",
      "603/603 [==============================] - 2s 4ms/step - loss: -0.9716 - mean_iou: 0.8852 - val_loss: -0.9597 - val_mean_iou: 0.8854\n",
      "Epoch 91/200\n",
      "603/603 [==============================] - 2s 4ms/step - loss: -0.9713 - mean_iou: 0.8856 - val_loss: -0.9612 - val_mean_iou: 0.8858\n",
      "Epoch 92/200\n",
      "603/603 [==============================] - 2s 4ms/step - loss: -0.9721 - mean_iou: 0.8860 - val_loss: -0.9583 - val_mean_iou: 0.8862\n",
      "Epoch 93/200\n",
      "603/603 [==============================] - 2s 4ms/step - loss: -0.9706 - mean_iou: 0.8864 - val_loss: -0.9606 - val_mean_iou: 0.8866\n",
      "Epoch 94/200\n",
      "603/603 [==============================] - 2s 4ms/step - loss: -0.9709 - mean_iou: 0.8868 - val_loss: -0.9589 - val_mean_iou: 0.8870\n",
      "Epoch 95/200\n",
      "603/603 [==============================] - 2s 4ms/step - loss: -0.9716 - mean_iou: 0.8872 - val_loss: -0.9608 - val_mean_iou: 0.8874\n",
      "Epoch 96/200\n",
      "603/603 [==============================] - 2s 4ms/step - loss: -0.9719 - mean_iou: 0.8875 - val_loss: -0.9607 - val_mean_iou: 0.8877\n",
      "Epoch 97/200\n",
      "603/603 [==============================] - 2s 4ms/step - loss: -0.9723 - mean_iou: 0.8879 - val_loss: -0.9601 - val_mean_iou: 0.8881\n",
      "Epoch 98/200\n",
      "603/603 [==============================] - 2s 4ms/step - loss: -0.9723 - mean_iou: 0.8883 - val_loss: -0.9590 - val_mean_iou: 0.8885\n",
      "Epoch 99/200\n",
      "603/603 [==============================] - 2s 4ms/step - loss: -0.9724 - mean_iou: 0.8887 - val_loss: -0.9583 - val_mean_iou: 0.8889\n",
      "Epoch 100/200\n",
      "603/603 [==============================] - 2s 4ms/step - loss: -0.9728 - mean_iou: 0.8891 - val_loss: -0.9611 - val_mean_iou: 0.8893\n",
      "Epoch 101/200\n",
      "603/603 [==============================] - 2s 4ms/step - loss: -0.9729 - mean_iou: 0.8895 - val_loss: -0.9587 - val_mean_iou: 0.8896\n",
      "Epoch 102/200\n",
      "603/603 [==============================] - 2s 4ms/step - loss: -0.9729 - mean_iou: 0.8898 - val_loss: -0.9583 - val_mean_iou: 0.8900\n",
      "Epoch 103/200\n",
      "603/603 [==============================] - 2s 4ms/step - loss: -0.9726 - mean_iou: 0.8902 - val_loss: -0.9593 - val_mean_iou: 0.8904\n",
      "Epoch 104/200\n",
      "603/603 [==============================] - 2s 4ms/step - loss: -0.9730 - mean_iou: 0.8905 - val_loss: -0.9586 - val_mean_iou: 0.8907\n",
      "Epoch 105/200\n",
      "603/603 [==============================] - 2s 4ms/step - loss: -0.9732 - mean_iou: 0.8909 - val_loss: -0.9603 - val_mean_iou: 0.8911\n",
      "Epoch 106/200\n",
      "603/603 [==============================] - 2s 4ms/step - loss: -0.9729 - mean_iou: 0.8913 - val_loss: -0.9594 - val_mean_iou: 0.8914\n",
      "Epoch 107/200\n",
      "603/603 [==============================] - 2s 4ms/step - loss: -0.9735 - mean_iou: 0.8916 - val_loss: -0.9591 - val_mean_iou: 0.8918\n",
      "Epoch 108/200\n",
      "603/603 [==============================] - 2s 4ms/step - loss: -0.9734 - mean_iou: 0.8920 - val_loss: -0.9585 - val_mean_iou: 0.8921\n",
      "Epoch 109/200\n",
      "603/603 [==============================] - 2s 4ms/step - loss: -0.9735 - mean_iou: 0.8923 - val_loss: -0.9592 - val_mean_iou: 0.8925\n",
      "Epoch 110/200\n",
      "603/603 [==============================] - 2s 4ms/step - loss: -0.9730 - mean_iou: 0.8926 - val_loss: -0.9581 - val_mean_iou: 0.8928\n",
      "Epoch 111/200\n",
      "603/603 [==============================] - 2s 4ms/step - loss: -0.9731 - mean_iou: 0.8929 - val_loss: -0.9585 - val_mean_iou: 0.8931\n",
      "Epoch 112/200\n",
      "603/603 [==============================] - 2s 4ms/step - loss: -0.9739 - mean_iou: 0.8933 - val_loss: -0.9596 - val_mean_iou: 0.8934\n",
      "Epoch 113/200\n",
      "603/603 [==============================] - 2s 4ms/step - loss: -0.9736 - mean_iou: 0.8936 - val_loss: -0.9571 - val_mean_iou: 0.8937\n",
      "Epoch 114/200\n",
      "603/603 [==============================] - 2s 4ms/step - loss: -0.9737 - mean_iou: 0.8939 - val_loss: -0.9563 - val_mean_iou: 0.8941\n",
      "Epoch 115/200\n",
      "603/603 [==============================] - 2s 4ms/step - loss: -0.9737 - mean_iou: 0.8942 - val_loss: -0.9596 - val_mean_iou: 0.8944\n",
      "Epoch 116/200\n",
      "603/603 [==============================] - 2s 4ms/step - loss: -0.9739 - mean_iou: 0.8945 - val_loss: -0.9588 - val_mean_iou: 0.8947\n",
      "Epoch 117/200\n",
      "603/603 [==============================] - 2s 4ms/step - loss: -0.9740 - mean_iou: 0.8948 - val_loss: -0.9578 - val_mean_iou: 0.8950\n",
      "Epoch 118/200\n",
      "603/603 [==============================] - 2s 4ms/step - loss: -0.9739 - mean_iou: 0.8951 - val_loss: -0.9582 - val_mean_iou: 0.8953\n",
      "Epoch 119/200\n",
      "603/603 [==============================] - 2s 4ms/step - loss: -0.9742 - mean_iou: 0.8954 - val_loss: -0.9585 - val_mean_iou: 0.8956\n",
      "Epoch 120/200\n",
      "603/603 [==============================] - 2s 4ms/step - loss: -0.9738 - mean_iou: 0.8957 - val_loss: -0.9598 - val_mean_iou: 0.8959\n",
      "Epoch 121/200\n",
      "603/603 [==============================] - 2s 4ms/step - loss: -0.9741 - mean_iou: 0.8960 - val_loss: -0.9580 - val_mean_iou: 0.8962\n",
      "Epoch 122/200\n",
      "603/603 [==============================] - 2s 4ms/step - loss: -0.9747 - mean_iou: 0.8963 - val_loss: -0.9585 - val_mean_iou: 0.8964\n",
      "Epoch 123/200\n",
      "603/603 [==============================] - 2s 4ms/step - loss: -0.9745 - mean_iou: 0.8966 - val_loss: -0.9585 - val_mean_iou: 0.8967\n",
      "Epoch 124/200\n",
      "603/603 [==============================] - 2s 4ms/step - loss: -0.9745 - mean_iou: 0.8969 - val_loss: -0.9574 - val_mean_iou: 0.8970\n",
      "Epoch 125/200\n",
      "603/603 [==============================] - 2s 4ms/step - loss: -0.9748 - mean_iou: 0.8972 - val_loss: -0.9581 - val_mean_iou: 0.8973\n",
      "Epoch 126/200\n",
      "603/603 [==============================] - 2s 4ms/step - loss: -0.9744 - mean_iou: 0.8974 - val_loss: -0.9585 - val_mean_iou: 0.8976\n",
      "Epoch 127/200\n",
      "603/603 [==============================] - 2s 4ms/step - loss: -0.9737 - mean_iou: 0.8977 - val_loss: -0.9576 - val_mean_iou: 0.8978\n",
      "Epoch 128/200\n",
      "603/603 [==============================] - 2s 4ms/step - loss: -0.9745 - mean_iou: 0.8980 - val_loss: -0.9583 - val_mean_iou: 0.8981\n",
      "Epoch 129/200\n",
      "603/603 [==============================] - 2s 4ms/step - loss: -0.9744 - mean_iou: 0.8982 - val_loss: -0.9587 - val_mean_iou: 0.8984\n",
      "Epoch 130/200\n",
      "603/603 [==============================] - 2s 4ms/step - loss: -0.9743 - mean_iou: 0.8985 - val_loss: -0.9570 - val_mean_iou: 0.8986\n",
      "Epoch 131/200\n",
      "603/603 [==============================] - 2s 4ms/step - loss: -0.9743 - mean_iou: 0.8987 - val_loss: -0.9576 - val_mean_iou: 0.8989\n",
      "Epoch 132/200\n",
      "603/603 [==============================] - 2s 4ms/step - loss: -0.9745 - mean_iou: 0.8990 - val_loss: -0.9591 - val_mean_iou: 0.8991\n",
      "Epoch 133/200\n",
      "603/603 [==============================] - 2s 4ms/step - loss: -0.9742 - mean_iou: 0.8992 - val_loss: -0.9582 - val_mean_iou: 0.8994\n",
      "Epoch 134/200\n",
      "603/603 [==============================] - 2s 4ms/step - loss: -0.9745 - mean_iou: 0.8995 - val_loss: -0.9576 - val_mean_iou: 0.8996\n",
      "Epoch 135/200\n",
      "603/603 [==============================] - 2s 4ms/step - loss: -0.9748 - mean_iou: 0.8997 - val_loss: -0.9582 - val_mean_iou: 0.8999\n",
      "Epoch 136/200\n",
      "603/603 [==============================] - 2s 4ms/step - loss: -0.9748 - mean_iou: 0.9000 - val_loss: -0.9584 - val_mean_iou: 0.9001\n",
      "Epoch 137/200\n",
      "603/603 [==============================] - 2s 4ms/step - loss: -0.9752 - mean_iou: 0.9002 - val_loss: -0.9581 - val_mean_iou: 0.9004\n",
      "Epoch 138/200\n",
      "603/603 [==============================] - 2s 4ms/step - loss: -0.9742 - mean_iou: 0.9005 - val_loss: -0.9581 - val_mean_iou: 0.9006\n",
      "Epoch 139/200\n",
      "603/603 [==============================] - 2s 4ms/step - loss: -0.9735 - mean_iou: 0.9007 - val_loss: -0.9594 - val_mean_iou: 0.9008\n",
      "Epoch 140/200\n",
      "603/603 [==============================] - 2s 4ms/step - loss: -0.9747 - mean_iou: 0.9009 - val_loss: -0.9584 - val_mean_iou: 0.9010\n",
      "Epoch 141/200\n",
      "603/603 [==============================] - 2s 4ms/step - loss: -0.9747 - mean_iou: 0.9011 - val_loss: -0.9590 - val_mean_iou: 0.9012\n",
      "Epoch 142/200\n",
      "603/603 [==============================] - 2s 4ms/step - loss: -0.9751 - mean_iou: 0.9014 - val_loss: -0.9586 - val_mean_iou: 0.9015\n",
      "Epoch 143/200\n",
      "603/603 [==============================] - 2s 4ms/step - loss: -0.9750 - mean_iou: 0.9016 - val_loss: -0.9569 - val_mean_iou: 0.9017\n",
      "Epoch 144/200\n",
      "603/603 [==============================] - 2s 4ms/step - loss: -0.9755 - mean_iou: 0.9018 - val_loss: -0.9578 - val_mean_iou: 0.9019\n",
      "Epoch 145/200\n",
      "603/603 [==============================] - 2s 4ms/step - loss: -0.9755 - mean_iou: 0.9020 - val_loss: -0.9564 - val_mean_iou: 0.9021\n",
      "Epoch 146/200\n",
      "603/603 [==============================] - 2s 4ms/step - loss: -0.9754 - mean_iou: 0.9023 - val_loss: -0.9570 - val_mean_iou: 0.9024\n",
      "Epoch 147/200\n",
      "603/603 [==============================] - 2s 4ms/step - loss: -0.9755 - mean_iou: 0.9025 - val_loss: -0.9571 - val_mean_iou: 0.9026\n",
      "Epoch 148/200\n",
      "603/603 [==============================] - 2s 4ms/step - loss: -0.9752 - mean_iou: 0.9027 - val_loss: -0.9558 - val_mean_iou: 0.9028\n",
      "Epoch 149/200\n",
      "603/603 [==============================] - 2s 4ms/step - loss: -0.9757 - mean_iou: 0.9029 - val_loss: -0.9567 - val_mean_iou: 0.9030\n",
      "Epoch 150/200\n",
      "603/603 [==============================] - 2s 4ms/step - loss: -0.9755 - mean_iou: 0.9031 - val_loss: -0.9585 - val_mean_iou: 0.9032\n",
      "Epoch 151/200\n",
      "603/603 [==============================] - 2s 4ms/step - loss: -0.9753 - mean_iou: 0.9033 - val_loss: -0.9567 - val_mean_iou: 0.9034\n",
      "Epoch 152/200\n",
      "603/603 [==============================] - 2s 4ms/step - loss: -0.9755 - mean_iou: 0.9035 - val_loss: -0.9560 - val_mean_iou: 0.9036\n",
      "Epoch 153/200\n",
      "603/603 [==============================] - 2s 4ms/step - loss: -0.9758 - mean_iou: 0.9037 - val_loss: -0.9581 - val_mean_iou: 0.9039\n",
      "Epoch 154/200\n",
      "603/603 [==============================] - 2s 4ms/step - loss: -0.9743 - mean_iou: 0.9039 - val_loss: -0.9587 - val_mean_iou: 0.9040\n",
      "Epoch 155/200\n",
      "432/603 [====================>.........] - ETA: 0s - loss: -0.9714 - mean_iou: 0.9041"
     ]
    }
   ],
   "source": [
    "results = model.fit(xtrain,ytrain, validation_split=0.1, batch_size=16, epochs=200, \n",
    "                    )"
   ]
  },
  {
   "cell_type": "code",
   "execution_count": 16,
   "metadata": {},
   "outputs": [],
   "source": [
    "pred=model.predict(xtrain)"
   ]
  },
  {
   "cell_type": "code",
   "execution_count": 17,
   "metadata": {},
   "outputs": [],
   "source": [
    "pred1=(pred>0.52)*1.0"
   ]
  },
  {
   "cell_type": "code",
   "execution_count": 18,
   "metadata": {},
   "outputs": [],
   "source": [
    "y1=(pred[1]>0.5)*1.0  # we can use thresholding to get better predictions"
   ]
  },
  {
   "cell_type": "code",
   "execution_count": 19,
   "metadata": {},
   "outputs": [
    {
     "data": {
      "text/plain": [
       "<matplotlib.image.AxesImage at 0x7fe018e7a7b8>"
      ]
     },
     "execution_count": 19,
     "metadata": {},
     "output_type": "execute_result"
    },
    {
     "data": {
      "image/png": "[encoded data removed]",
      "text/plain": [
       "<Figure size 432x288 with 1 Axes>"
      ]
     },
     "metadata": {
      "needs_background": "light"
     },
     "output_type": "display_data"
    }
   ],
   "source": [
    "plt.imshow(y1.reshape((128,128)))"
   ]
  },
  {
   "cell_type": "code",
   "execution_count": 20,
   "metadata": {},
   "outputs": [
    {
     "data": {
      "text/plain": [
       "<matplotlib.image.AxesImage at 0x7fe018dec358>"
      ]
     },
     "execution_count": 20,
     "metadata": {},
     "output_type": "execute_result"
    },
    {
     "data": {
      "image/png": "[encoded data removed]",
      "text/plain": [
       "<Figure size 432x288 with 1 Axes>"
      ]
     },
     "metadata": {
      "needs_background": "light"
     },
     "output_type": "display_data"
    }
   ],
   "source": [
    "plt.imshow(maskdir[1])"
   ]
  },
  {
   "cell_type": "code",
   "execution_count": 21,
   "metadata": {},
   "outputs": [],
   "source": [
    "ytrain1=(ytrain>0.5)*1.0"
   ]
  },
  {
   "cell_type": "code",
   "execution_count": 22,
   "metadata": {},
   "outputs": [
    {
     "data": {
      "text/plain": [
       "(670, 128, 128, 1)"
      ]
     },
     "execution_count": 22,
     "metadata": {},
     "output_type": "execute_result"
    }
   ],
   "source": [
    "ytrain1.shape"
   ]
  },
  {
   "cell_type": "code",
   "execution_count": 23,
   "metadata": {},
   "outputs": [
    {
     "data": {
      "text/plain": [
       "(670, 128, 128, 1)"
      ]
     },
     "execution_count": 23,
     "metadata": {},
     "output_type": "execute_result"
    }
   ],
   "source": [
    "pred.shape"
   ]
  },
  {
   "cell_type": "code",
   "execution_count": 24,
   "metadata": {},
   "outputs": [],
   "source": [
    "# https://swarbrickjones.wordpress.com/2017/03/28/cross-entropy-and-training-test-class-imbalance/"
   ]
  },
  {
   "cell_type": "code",
   "execution_count": 25,
   "metadata": {},
   "outputs": [],
   "source": [
    "# https://gchlebus.github.io/2018/02/18/semantic-segmentation-loss-functions.html"
   ]
  },
  {
   "cell_type": "code",
   "execution_count": 26,
   "metadata": {},
   "outputs": [],
   "source": [
    "x=2*np.sum(pred1*ytrain1)"
   ]
  },
  {
   "cell_type": "code",
   "execution_count": 27,
   "metadata": {},
   "outputs": [],
   "source": [
    "dicescore=x/(np.sum(pred1)+np.sum(ytrain1))"
   ]
  },
  {
   "cell_type": "code",
   "execution_count": 28,
   "metadata": {},
   "outputs": [
    {
     "data": {
      "text/plain": [
       "0.9569914490041093"
      ]
     },
     "execution_count": 28,
     "metadata": {},
     "output_type": "execute_result"
    }
   ],
   "source": [
    "dicescore"
   ]
  },
  {
   "cell_type": "code",
   "execution_count": 29,
   "metadata": {},
   "outputs": [
    {
     "data": {
      "text/plain": [
       "0.9569914490041093"
      ]
     },
     "execution_count": 29,
     "metadata": {},
     "output_type": "execute_result"
    }
   ],
   "source": [
    "dicescore"
   ]
  },
  {
   "cell_type": "code",
   "execution_count": 30,
   "metadata": {},
   "outputs": [],
   "source": [
    "x=np.linspace(0.20,0.60,100)"
   ]
  },
  {
   "cell_type": "code",
   "execution_count": 31,
   "metadata": {},
   "outputs": [
    {
     "data": {
      "text/plain": [
       "array([0.2       , 0.2040404 , 0.20808081, 0.21212121, 0.21616162,\n",
       "       0.22020202, 0.22424242, 0.22828283, 0.23232323, 0.23636364,\n",
       "       0.24040404, 0.24444444, 0.24848485, 0.25252525, 0.25656566,\n",
       "       0.26060606, 0.26464646, 0.26868687, 0.27272727, 0.27676768,\n",
       "       0.28080808, 0.28484848, 0.28888889, 0.29292929, 0.2969697 ,\n",
       "       0.3010101 , 0.30505051, 0.30909091, 0.31313131, 0.31717172,\n",
       "       0.32121212, 0.32525253, 0.32929293, 0.33333333, 0.33737374,\n",
       "       0.34141414, 0.34545455, 0.34949495, 0.35353535, 0.35757576,\n",
       "       0.36161616, 0.36565657, 0.36969697, 0.37373737, 0.37777778,\n",
       "       0.38181818, 0.38585859, 0.38989899, 0.39393939, 0.3979798 ,\n",
       "       0.4020202 , 0.40606061, 0.41010101, 0.41414141, 0.41818182,\n",
       "       0.42222222, 0.42626263, 0.43030303, 0.43434343, 0.43838384,\n",
       "       0.44242424, 0.44646465, 0.45050505, 0.45454545, 0.45858586,\n",
       "       0.46262626, 0.46666667, 0.47070707, 0.47474747, 0.47878788,\n",
       "       0.48282828, 0.48686869, 0.49090909, 0.49494949, 0.4989899 ,\n",
       "       0.5030303 , 0.50707071, 0.51111111, 0.51515152, 0.51919192,\n",
       "       0.52323232, 0.52727273, 0.53131313, 0.53535354, 0.53939394,\n",
       "       0.54343434, 0.54747475, 0.55151515, 0.55555556, 0.55959596,\n",
       "       0.56363636, 0.56767677, 0.57171717, 0.57575758, 0.57979798,\n",
       "       0.58383838, 0.58787879, 0.59191919, 0.5959596 , 0.6       ])"
      ]
     },
     "execution_count": 31,
     "metadata": {},
     "output_type": "execute_result"
    }
   ],
   "source": [
    "x"
   ]
  },
  {
   "cell_type": "code",
   "execution_count": 32,
   "metadata": {},
   "outputs": [],
   "source": [
    "y=[]\n",
    "for i in x:\n",
    "    pred1=(pred>i)*1.0\n",
    "    x1=2*np.sum(pred1*ytrain1)\n",
    "    dicescore=x1/(np.sum(pred1)+np.sum(ytrain1))\n",
    "    y.append(dicescore)"
   ]
  },
  {
   "cell_type": "code",
   "execution_count": 33,
   "metadata": {},
   "outputs": [
    {
     "data": {
      "text/plain": [
       "<matplotlib.collections.PathCollection at 0x7fe018dd1518>"
      ]
     },
     "execution_count": 33,
     "metadata": {},
     "output_type": "execute_result"
    },
    {
     "data": {
      "image/png": "[encoded data removed]",
      "text/plain": [
       "<Figure size 432x288 with 1 Axes>"
      ]
     },
     "metadata": {
      "needs_background": "light"
     },
     "output_type": "display_data"
    }
   ],
   "source": [
    "plt.scatter(x,y)"
   ]
  },
  {
   "cell_type": "code",
   "execution_count": 34,
   "metadata": {},
   "outputs": [
    {
     "data": {
      "text/plain": [
       "0.9623531490708513"
      ]
     },
     "execution_count": 34,
     "metadata": {},
     "output_type": "execute_result"
    }
   ],
   "source": [
    "y[0]"
   ]
  },
  {
   "cell_type": "code",
   "execution_count": 35,
   "metadata": {},
   "outputs": [],
   "source": [
    "#best threshold\n",
    "\n",
    "indx=np.argmax(y)"
   ]
  },
  {
   "cell_type": "code",
   "execution_count": 36,
   "metadata": {},
   "outputs": [],
   "source": [
    "bestthreshold=x[indx]"
   ]
  },
  {
   "cell_type": "code",
   "execution_count": 37,
   "metadata": {},
   "outputs": [
    {
     "data": {
      "text/plain": [
       "0.2727272727272727"
      ]
     },
     "execution_count": 37,
     "metadata": {},
     "output_type": "execute_result"
    }
   ],
   "source": [
    "bestthreshold"
   ]
  },
  {
   "cell_type": "code",
   "execution_count": 38,
   "metadata": {},
   "outputs": [
    {
     "data": {
      "text/plain": [
       "0.963736632881938"
      ]
     },
     "execution_count": 38,
     "metadata": {},
     "output_type": "execute_result"
    }
   ],
   "source": [
    "y[indx]"
   ]
  },
  {
   "cell_type": "code",
   "execution_count": null,
   "metadata": {},
   "outputs": [],
   "source": []
  }
 ],
 "metadata": {
  "kernelspec": {
   "display_name": "Python 3",
   "language": "python",
   "name": "python3"
  },
  "language_info": {
   "codemirror_mode": {
    "name": "ipython",
    "version": 3
   },
   "file_extension": ".py",
   "mimetype": "text/x-python",
   "name": "python",
   "nbconvert_exporter": "python",
   "pygments_lexer": "ipython3",
   "version": "3.6.6"
  }
 },
 "nbformat": 4,
 "nbformat_minor": 1
}
